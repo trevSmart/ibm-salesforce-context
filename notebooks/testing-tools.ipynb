{
 "cells": [
  {
   "cell_type": "markdown",
   "id": "e672af84-b502-4f41-9d54-ec020983bf2e",
   "metadata": {},
   "source": [
    "# Testing Interactiu d'Eines MCP Salesforce\n",
    "\n",
    "Aquest notebook et mostra com utilitzar Jupyter per a:\n",
    "- Provar les eines MCP de forma interactiva\n",
    "- Documentar exemples d'ús\n",
    "- Fer debugging del codi\n",
    "- Experimentar amb diferents aproximacions\n"
   ]
  },
  {
   "cell_type": "markdown",
   "id": "2a958371",
   "metadata": {},
   "source": []
  },
  {
   "cell_type": "markdown",
   "id": "40dc0a56",
   "metadata": {},
   "source": [
    "## 1. Configuració Inicial\n",
    "\n",
    "Primer, configurem l'entorn per a treballar amb el servidor MCP:\n"
   ]
  },
  {
   "cell_type": "code",
   "execution_count": 20,
   "id": "5756d489",
   "metadata": {},
   "outputs": [
    {
     "name": "stdout",
     "output_type": "stream",
     "text": [
      "Conectant al servidor MCP a: http://localhost:3000\n",
      "Data i hora actual: 2025-08-20 22:10:48\n"
     ]
    }
   ],
   "source": [
    "# Importem les dependències necessàries\n",
    "import json\n",
    "import requests\n",
    "from datetime import datetime\n",
    "import pandas as pd\n",
    "import matplotlib.pyplot as plt\n",
    "\n",
    "# Configuració del servidor MCP\n",
    "MCP_SERVER_URL = \"http://localhost:3000\"  # Ajusta segons la teva configuració\n",
    "\n",
    "print(f\"Conectant al servidor MCP a: {MCP_SERVER_URL}\")\n",
    "print(f\"Data i hora actual: {datetime.now().strftime('%Y-%m-%d %H:%M:%S')}\")\n"
   ]
  },
  {
   "cell_type": "markdown",
   "id": "a6096f00",
   "metadata": {},
   "source": [
    "## 2. Testing de l'Eina d'Execució SOQL\n",
    "\n",
    "Provem com funciona l'eina d'execució de consultes SOQL:\n"
   ]
  },
  {
   "cell_type": "code",
   "execution_count": 21,
   "id": "934725ea",
   "metadata": {},
   "outputs": [
    {
     "name": "stdout",
     "output_type": "stream",
     "text": [
      "=== Testing SOQL Queries ===\n",
      "\n",
      "Query: SELECT Id, Name FROM Account LIMIT 5\n",
      "Result: {\n",
      "  \"success\": true,\n",
      "  \"query\": \"SELECT Id, Name FROM Account LIMIT 5\",\n",
      "  \"results\": [\n",
      "    {\n",
      "      \"Id\": \"001\",\n",
      "      \"Name\": \"Account 1\",\n",
      "      \"Industry\": \"Technology\"\n",
      "    },\n",
      "    {\n",
      "      \"Id\": \"002\",\n",
      "      \"Name\": \"Account 2\",\n",
      "      \"Industry\": \"Healthcare\"\n",
      "    }\n",
      "  ]\n",
      "}\n",
      "\n",
      "Query: SELECT Id, Name, Industry FROM Account WHERE Industry = 'Technology'\n",
      "Result: {\n",
      "  \"success\": true,\n",
      "  \"query\": \"SELECT Id, Name, Industry FROM Account WHERE Industry = 'Technology'\",\n",
      "  \"results\": [\n",
      "    {\n",
      "      \"Id\": \"001\",\n",
      "      \"Name\": \"Account 1\",\n",
      "      \"Industry\": \"Technology\"\n",
      "    },\n",
      "    {\n",
      "      \"Id\": \"002\",\n",
      "      \"Name\": \"Account 2\",\n",
      "      \"Industry\": \"Healthcare\"\n",
      "    }\n",
      "  ]\n",
      "}\n",
      "\n",
      "Query: SELECT Id, Name, CreatedDate FROM Account ORDER BY CreatedDate DESC LIMIT 10\n",
      "Result: {\n",
      "  \"success\": true,\n",
      "  \"query\": \"SELECT Id, Name, CreatedDate FROM Account ORDER BY CreatedDate DESC LIMIT 10\",\n",
      "  \"results\": [\n",
      "    {\n",
      "      \"Id\": \"001\",\n",
      "      \"Name\": \"Account 1\",\n",
      "      \"Industry\": \"Technology\"\n",
      "    },\n",
      "    {\n",
      "      \"Id\": \"002\",\n",
      "      \"Name\": \"Account 2\",\n",
      "      \"Industry\": \"Healthcare\"\n",
      "    }\n",
      "  ]\n",
      "}\n"
     ]
    }
   ],
   "source": [
    "# Exemple de consulta SOQL simple\n",
    "def test_soql_query(query):\n",
    "    \"\"\"\n",
    "    Prova una consulta SOQL i retorna els resultats\n",
    "    \"\"\"\n",
    "    try:\n",
    "        # Aquí faríem la crida real al servidor MCP\n",
    "        # Per ara, simularem la resposta\n",
    "\n",
    "        # Simulació de resposta\n",
    "        mock_response = {\n",
    "            \"success\": True,\n",
    "            \"query\": query,\n",
    "            \"results\": [\n",
    "                {\"Id\": \"001\", \"Name\": \"Account 1\", \"Industry\": \"Technology\"},\n",
    "                {\"Id\": \"002\", \"Name\": \"Account 2\", \"Industry\": \"Healthcare\"}\n",
    "            ]\n",
    "        }\n",
    "\n",
    "        return mock_response\n",
    "    except Exception as e:\n",
    "        return {\"error\": str(e)}\n",
    "\n",
    "# Provem diferents consultes\n",
    "test_queries = [\n",
    "    \"SELECT Id, Name FROM Account LIMIT 5\",\n",
    "    \"SELECT Id, Name, Industry FROM Account WHERE Industry = 'Technology'\",\n",
    "    \"SELECT Id, Name, CreatedDate FROM Account ORDER BY CreatedDate DESC LIMIT 10\"\n",
    "]\n",
    "\n",
    "print(\"=== Testing SOQL Queries ===\")\n",
    "for query in test_queries:\n",
    "    print(f\"\\nQuery: {query}\")\n",
    "    result = test_soql_query(query)\n",
    "    print(f\"Result: {json.dumps(result, indent=2)}\")\n"
   ]
  },
  {
   "cell_type": "markdown",
   "id": "2929a1a4",
   "metadata": {},
   "source": [
    "## 3. Anàlisi de Resultats amb Pandas\n",
    "\n",
    "Utilitzem pandas per a analitzar i visualitzar els resultats:\n"
   ]
  },
  {
   "cell_type": "code",
   "execution_count": 22,
   "id": "af80d4be",
   "metadata": {},
   "outputs": [
    {
     "name": "stdout",
     "output_type": "stream",
     "text": [
      "=== Anàlisi de Resultats ===\n",
      "Total de registres: 2\n",
      "\n",
      "Primers 5 registres:\n",
      "    Id       Name    Industry\n",
      "0  001  Account 1  Technology\n",
      "1  002  Account 2  Healthcare\n",
      "\n",
      "Distribució per indústria:\n",
      "Industry\n",
      "Technology    1\n",
      "Healthcare    1\n",
      "Name: count, dtype: int64\n"
     ]
    },
    {
     "data": {
      "image/png": "[encoded data removed]",
      "text/plain": [
       "<Figure size 1000x600 with 1 Axes>"
      ]
     },
     "metadata": {},
     "output_type": "display_data"
    }
   ],
   "source": [
    "# Convertim els resultats a un DataFrame de pandas\n",
    "def analyze_results(results):\n",
    "    \"\"\"\n",
    "    Analitza els resultats de les consultes SOQL\n",
    "    \"\"\"\n",
    "    if \"results\" in results:\n",
    "        df = pd.DataFrame(results[\"results\"])\n",
    "\n",
    "        print(\"=== Anàlisi de Resultats ===\")\n",
    "        print(f\"Total de registres: {len(df)}\")\n",
    "        print(f\"\\nPrimers 5 registres:\")\n",
    "        print(df.head())\n",
    "\n",
    "        # Anàlisi estadístic bàsic\n",
    "        if \"Industry\" in df.columns:\n",
    "            print(f\"\\nDistribució per indústria:\")\n",
    "            industry_counts = df[\"Industry\"].value_counts()\n",
    "            print(industry_counts)\n",
    "\n",
    "            # Visualització simple\n",
    "            plt.figure(figsize=(10, 6))\n",
    "            industry_counts.plot(kind='bar')\n",
    "            plt.title('Distribució per Indústria')\n",
    "            plt.xlabel('Indústria')\n",
    "            plt.ylabel('Nombre de Comptes')\n",
    "            plt.xticks(rotation=45)\n",
    "            plt.tight_layout()\n",
    "            plt.show()\n",
    "\n",
    "        return df\n",
    "    else:\n",
    "        print(\"No hi ha resultats per analitzar\")\n",
    "        return None\n",
    "\n",
    "# Analitzem els resultats de la primera consulta\n",
    "first_result = test_soql_query(\"SELECT Id, Name, Industry FROM Account LIMIT 10\")\n",
    "df = analyze_results(first_result)\n"
   ]
  }
 ],
 "metadata": {
  "kernelspec": {
   "display_name": "venv",
   "language": "python",
   "name": "python3"
  },
  "language_info": {
   "codemirror_mode": {
    "name": "ipython",
    "version": 3
   },
   "file_extension": ".py",
   "mimetype": "text/x-python",
   "name": "python",
   "nbconvert_exporter": "python",
   "pygments_lexer": "ipython3",
   "version": "3.10.13"
  }
 },
 "nbformat": 4,
 "nbformat_minor": 5
}
