{
 "cells": [
  {
   "cell_type": "markdown",
   "id": "63cb3399",
   "metadata": {},
   "source": [
    "# Exemples d'Ús de les Eines MCP Salesforce\n",
    "\n",
    "Aquest notebook conté exemples pràctics de com utilitzar cada eina del servidor MCP Salesforce.\n",
    "Cada secció inclou exemples executables i explicacions detallades.\n"
   ]
  },
  {
   "cell_type": "markdown",
   "id": "9089c75a",
   "metadata": {},
   "source": [
    "## 1. Eina: Execució de Consultes SOQL\n",
    "\n",
    "L'eina `executeSoqlQuery` permet executar consultes SOQL directament des del servidor MCP.\n"
   ]
  },
  {
   "cell_type": "code",
   "execution_count": 1,
   "id": "231ae4bc",
   "metadata": {},
   "outputs": [
    {
     "name": "stdout",
     "output_type": "stream",
     "text": [
      "=== Exemple: Consulta Bàsica SOQL ===\n",
      "Query: SELECT Id, Name, Industry, BillingCity FROM Account LIMIT 10\n",
      "Resultats: 3 registres trobats\n",
      "  - Acme Corp (Technology) - San Francisco\n",
      "  - Global Industries (Manufacturing) - New York\n",
      "  - Health Plus (Healthcare) - Boston\n"
     ]
    }
   ],
   "source": [
    "# Exemple 1: Consulta bàsica d'accounts\n",
    "def example_basic_soql():\n",
    "    \"\"\"\n",
    "    Exemple bàsic de consulta SOQL per a comptes\n",
    "    \"\"\"\n",
    "    query = \"SELECT Id, Name, Industry, BillingCity FROM Account LIMIT 10\"\n",
    "\n",
    "    # Aquí faríem la crida real al servidor MCP\n",
    "    # Per ara, simularem la resposta\n",
    "    mock_response = {\n",
    "        \"success\": True,\n",
    "        \"query\": query,\n",
    "        \"results\": [\n",
    "            {\"Id\": \"001\", \"Name\": \"Acme Corp\", \"Industry\": \"Technology\", \"BillingCity\": \"San Francisco\"},\n",
    "            {\"Id\": \"002\", \"Name\": \"Global Industries\", \"Industry\": \"Manufacturing\", \"BillingCity\": \"New York\"},\n",
    "            {\"Id\": \"003\", \"Name\": \"Health Plus\", \"Industry\": \"Healthcare\", \"BillingCity\": \"Boston\"}\n",
    "        ]\n",
    "    }\n",
    "\n",
    "    return mock_response\n",
    "\n",
    "print(\"=== Exemple: Consulta Bàsica SOQL ===\")\n",
    "result = example_basic_soql()\n",
    "print(f\"Query: {result['query']}\")\n",
    "print(f\"Resultats: {len(result['results'])} registres trobats\")\n",
    "for record in result['results']:\n",
    "    print(f\"  - {record['Name']} ({record['Industry']}) - {record['BillingCity']}\")\n"
   ]
  },
  {
   "cell_type": "markdown",
   "id": "e20ad24e",
   "metadata": {},
   "source": [
    "## 2. Eina: Operacions DML (Crear, Actualitzar, Eliminar)\n",
    "\n",
    "L'eina `dmlOperation` permet realitzar operacions de base de dades en lote.\n"
   ]
  },
  {
   "cell_type": "code",
   "execution_count": 2,
   "id": "6262593e",
   "metadata": {},
   "outputs": [
    {
     "name": "stdout",
     "output_type": "stream",
     "text": [
      "=== Exemple: Creació de Registres ===\n",
      "Operació de creació completada:\n",
      "  - Account: ✅ Success (ID: 001NEW001)\n",
      "  - Account: ✅ Success (ID: 001NEW002)\n"
     ]
    }
   ],
   "source": [
    "# Exemple: Crear múltiples registres\n",
    "def example_create_records():\n",
    "    \"\"\"\n",
    "    Exemple de creació de múltiples comptes\n",
    "    \"\"\"\n",
    "    operations = {\n",
    "        \"create\": [\n",
    "            {\n",
    "                \"sObjectName\": \"Account\",\n",
    "                \"fields\": {\n",
    "                    \"Name\": \"Nova Empresa Tech\",\n",
    "                    \"Industry\": \"Technology\",\n",
    "                    \"BillingCity\": \"Barcelona\",\n",
    "                    \"Phone\": \"+34 93 123 45 67\"\n",
    "                }\n",
    "            },\n",
    "            {\n",
    "                \"sObjectName\": \"Account\",\n",
    "                \"fields\": {\n",
    "                    \"Name\": \"Consultoria Digital\",\n",
    "                    \"Industry\": \"Consulting\",\n",
    "                    \"BillingCity\": \"Madrid\",\n",
    "                    \"Phone\": \"+34 91 987 65 43\"\n",
    "                }\n",
    "            }\n",
    "        ]\n",
    "    }\n",
    "\n",
    "    # Simulació de resposta\n",
    "    mock_response = {\n",
    "        \"success\": True,\n",
    "        \"operations\": {\n",
    "            \"create\": [\n",
    "                {\"sObjectName\": \"Account\", \"recordId\": \"001NEW001\", \"result\": \"✅ Success\"},\n",
    "                {\"sObjectName\": \"Account\", \"recordId\": \"001NEW002\", \"result\": \"✅ Success\"}\n",
    "            ]\n",
    "        }\n",
    "    }\n",
    "\n",
    "    return mock_response\n",
    "\n",
    "print(\"=== Exemple: Creació de Registres ===\")\n",
    "result = example_create_records()\n",
    "print(\"Operació de creació completada:\")\n",
    "for op in result['operations']['create']:\n",
    "    print(f\"  - {op['sObjectName']}: {op['result']} (ID: {op['recordId']})\")\n"
   ]
  }
 ],
 "metadata": {
  "kernelspec": {
   "display_name": "venv",
   "language": "python",
   "name": "python3"
  },
  "language_info": {
   "codemirror_mode": {
    "name": "ipython",
    "version": 3
   },
   "file_extension": ".py",
   "mimetype": "text/x-python",
   "name": "python",
   "nbconvert_exporter": "python",
   "pygments_lexer": "ipython3",
   "version": "3.10.13"
  }
 },
 "nbformat": 4,
 "nbformat_minor": 5
}
