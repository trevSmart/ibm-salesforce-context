{
 "cells": [
  {
   "cell_type": "markdown",
   "id": "c82c5fd4",
   "metadata": {},
   "source": [
    "# Workflow de Desenvolupament Interactiu amb Jupyter\n",
    "\n",
    "Aquest notebook et mostra com utilitzar Jupyter per a:\n",
    "- Desenvolupar i provar codi de forma interactiva\n",
    "- Debugging i anàlisi de problemes\n",
    "- Experimentar amb diferents aproximacions\n",
    "- Crear prototips ràpids\n"
   ]
  },
  {
   "cell_type": "markdown",
   "id": "38fbc1ad",
   "metadata": {},
   "source": [
    "## 1. Configuració de l'Entorn de Desenvolupament\n",
    "\n",
    "Primer, configurem l'entorn per a treballar amb el servidor MCP:\n"
   ]
  },
  {
   "cell_type": "code",
   "execution_count": 1,
   "id": "ab2633f7",
   "metadata": {},
   "outputs": [
    {
     "name": "stdout",
     "output_type": "stream",
     "text": [
      "Configuració MCP: http://localhost:3000\n",
      "Estat del servidor: 🔴 Desconnectat\n",
      "Data i hora: 2025-08-20 23:09:59\n"
     ]
    }
   ],
   "source": [
    "# Configuració de l'entorn de desenvolupament\n",
    "import json\n",
    "import time\n",
    "from datetime import datetime\n",
    "import pandas as pd\n",
    "import matplotlib.pyplot as plt\n",
    "\n",
    "# Configuració del servidor MCP\n",
    "MCP_CONFIG = {\n",
    "    \"server_url\": \"http://localhost:3000\",\n",
    "    \"timeout\": 30,\n",
    "    \"retry_attempts\": 3\n",
    "}\n",
    "\n",
    "# Estat del servidor\n",
    "server_status = {\n",
    "    \"connected\": False,\n",
    "    \"last_check\": None,\n",
    "    \"tools_available\": []\n",
    "}\n",
    "\n",
    "print(f\"Configuració MCP: {MCP_CONFIG['server_url']}\")\n",
    "print(f\"Estat del servidor: {'🟢 Conectat' if server_status['connected'] else '🔴 Desconnectat'}\")\n",
    "print(f\"Data i hora: {datetime.now().strftime('%Y-%m-%d %H:%M:%S')}\")\n"
   ]
  },
  {
   "cell_type": "markdown",
   "id": "f139f87c",
   "metadata": {},
   "source": [
    "## 2. Testing de Connexió i Disponibilitat d'Eines\n",
    "\n",
    "Provem la connexió amb el servidor i veiem quines eines estan disponibles:\n"
   ]
  },
  {
   "cell_type": "code",
   "execution_count": 2,
   "id": "e1ef40ad",
   "metadata": {},
   "outputs": [
    {
     "name": "stdout",
     "output_type": "stream",
     "text": [
      "=== Verificant Connexió amb el Servidor ===\n",
      "✅ Servidor connectat a les 23:09:59\n",
      "🔧 Eines disponibles: 13\n",
      "\n",
      "Eines disponibles:\n",
      "   1. executeSoqlQuery\n",
      "   2. dmlOperation\n",
      "   3. describeObject\n",
      "   4. getApexClassCodeCoverage\n",
      "   5. executeAnonymousApex\n",
      "   6. createMetadata\n",
      "   7. deployMetadata\n",
      "   8. getRecord\n",
      "   9. getRecentlyViewedRecords\n",
      "  10. getSetupAuditTrail\n",
      "  11. runApexTest\n",
      "  12. apexDebugLogs\n",
      "  13. salesforceMcpUtils\n"
     ]
    }
   ],
   "source": [
    "# Funció per a verificar la connexió amb el servidor\n",
    "def check_server_connection():\n",
    "    \"\"\"\n",
    "    Verifica la connexió amb el servidor MCP\n",
    "    \"\"\"\n",
    "    try:\n",
    "        # Aquí faríem una crida real al servidor\n",
    "        # Per ara, simularem la resposta\n",
    "\n",
    "        # Simulació de resposta del servidor\n",
    "        mock_response = {\n",
    "            \"status\": \"online\",\n",
    "            \"timestamp\": datetime.now().isoformat(),\n",
    "            \"tools\": [\n",
    "                \"executeSoqlQuery\",\n",
    "                \"dmlOperation\",\n",
    "                \"describeObject\",\n",
    "                \"getApexClassCodeCoverage\",\n",
    "                \"executeAnonymousApex\",\n",
    "                \"createMetadata\",\n",
    "                \"deployMetadata\",\n",
    "                \"getRecord\",\n",
    "                \"getRecentlyViewedRecords\",\n",
    "                \"getSetupAuditTrail\",\n",
    "                \"runApexTest\",\n",
    "                \"apexDebugLogs\",\n",
    "                \"salesforceMcpUtils\"\n",
    "            ]\n",
    "        }\n",
    "\n",
    "        # Actualitzem l'estat\n",
    "        server_status[\"connected\"] = True\n",
    "        server_status[\"last_check\"] = datetime.now()\n",
    "        server_status[\"tools_available\"] = mock_response[\"tools\"]\n",
    "\n",
    "        return mock_response\n",
    "\n",
    "    except Exception as e:\n",
    "        server_status[\"connected\"] = False\n",
    "        return {\"error\": str(e), \"status\": \"offline\"}\n",
    "\n",
    "# Provem la connexió\n",
    "print(\"=== Verificant Connexió amb el Servidor ===\")\n",
    "connection_result = check_server_connection()\n",
    "\n",
    "if connection_result.get(\"status\") == \"online\":\n",
    "    print(f\"✅ Servidor connectat a les {connection_result['timestamp'][11:19]}\")\n",
    "    print(f\"🔧 Eines disponibles: {len(connection_result['tools'])}\")\n",
    "\n",
    "    # Mostrem les eines disponibles\n",
    "    print(\"\\nEines disponibles:\")\n",
    "    for i, tool in enumerate(connection_result['tools'], 1):\n",
    "        print(f\"  {i:2d}. {tool}\")\n",
    "else:\n",
    "    print(f\"❌ Error de connexió: {connection_result.get('error', 'Desconegut')}\")\n"
   ]
  }
 ],
 "metadata": {
  "kernelspec": {
   "display_name": "venv",
   "language": "python",
   "name": "python3"
  },
  "language_info": {
   "codemirror_mode": {
    "name": "ipython",
    "version": 3
   },
   "file_extension": ".py",
   "mimetype": "text/x-python",
   "name": "python",
   "nbconvert_exporter": "python",
   "pygments_lexer": "ipython3",
   "version": "3.10.13"
  }
 },
 "nbformat": 4,
 "nbformat_minor": 5
}
